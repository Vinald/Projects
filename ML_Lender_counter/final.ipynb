{
 "cells": [
  {
   "cell_type": "markdown",
   "id": "01963f68-18b1-46d2-9634-e40d2507eb63",
   "metadata": {
    "tags": []
   },
   "source": [
    "## Load Libraries"
   ]
  },
  {
   "cell_type": "code",
   "execution_count": 1,
   "id": "983a94b9-8cdd-4d3f-98ce-a1f0e99237c7",
   "metadata": {},
   "outputs": [],
   "source": [
    "import numpy as np\n",
    "import pandas as pd\n",
    "import matplotlib.pyplot as plt\n",
    "import seaborn as sns\n",
    "\n",
    "from sklearn.model_selection import train_test_split\n",
    "from sklearn.preprocessing import StandardScaler\n",
    "from sklearn.preprocessing import OneHotEncoder \n",
    "\n",
    "from sklearn.metrics import accuracy_score, classification_report, confusion_matrix\n",
    "import pickle\n",
    "\n",
    "import warnings\n",
    "warnings.filterwarnings('ignore')"
   ]
  },
  {
   "cell_type": "markdown",
   "id": "bfe1981d-a83e-4ab7-90e1-6a9867f02b71",
   "metadata": {
    "tags": []
   },
   "source": [
    "## Load the data and make a dataframe"
   ]
  },
  {
   "cell_type": "code",
   "execution_count": 2,
   "id": "cd5eeea6-1393-467c-893f-81ba8bb6a725",
   "metadata": {},
   "outputs": [],
   "source": [
    "data = pd.read_csv('loans.csv')"
   ]
  },
  {
   "cell_type": "markdown",
   "id": "0ba91e44-a566-46f1-8531-4e1e4014b150",
   "metadata": {},
   "source": [
    "> Inspect the original dataframe"
   ]
  },
  {
   "cell_type": "code",
   "execution_count": null,
   "id": "eff4e5e7-6dd0-4cd6-9393-e50812b251bf",
   "metadata": {},
   "outputs": [],
   "source": [
    "data.head(10)"
   ]
  },
  {
   "cell_type": "code",
   "execution_count": null,
   "id": "ee0fdf09-2dc5-4d20-8ae7-19ef1350492a",
   "metadata": {},
   "outputs": [],
   "source": [
    "data.shape"
   ]
  },
  {
   "cell_type": "code",
   "execution_count": null,
   "id": "00a22190-30e2-4779-aac6-97dcc21d8467",
   "metadata": {},
   "outputs": [],
   "source": [
    "data.info()"
   ]
  },
  {
   "cell_type": "code",
   "execution_count": null,
   "id": "6907528e-1daa-416c-a348-c9ffc0f139bf",
   "metadata": {},
   "outputs": [],
   "source": [
    "print('missing values: ', data.isnull().sum())"
   ]
  },
  {
   "cell_type": "markdown",
   "id": "8e4c786c-ea32-48de-85fa-0004b16e35f9",
   "metadata": {
    "tags": []
   },
   "source": [
    "## Prepare data"
   ]
  },
  {
   "cell_type": "code",
   "execution_count": 3,
   "id": "d97fff55-3563-4721-bd76-dab07db14535",
   "metadata": {},
   "outputs": [],
   "source": [
    "df = data[['loan_amount', 'lender_count', 'status', 'repayment_term', 'sector', 'location_country_code']]"
   ]
  },
  {
   "cell_type": "markdown",
   "id": "df36e18c-6759-4ecd-be1b-40dfbf047614",
   "metadata": {
    "tags": []
   },
   "source": [
    "> Inspecting data"
   ]
  },
  {
   "cell_type": "code",
   "execution_count": null,
   "id": "cc1d0fa8-c71e-412e-b0bd-3a91b1e6c5c6",
   "metadata": {},
   "outputs": [],
   "source": [
    "df.head(10)"
   ]
  },
  {
   "cell_type": "code",
   "execution_count": null,
   "id": "dd96fb7e-fe26-4bd2-a12e-fd8f74ee74af",
   "metadata": {},
   "outputs": [],
   "source": [
    "df.info()"
   ]
  },
  {
   "cell_type": "code",
   "execution_count": null,
   "id": "7e3d6411-8e25-4eb9-9f61-0ee810a61e9c",
   "metadata": {},
   "outputs": [],
   "source": [
    "df.shape"
   ]
  },
  {
   "cell_type": "markdown",
   "id": "4f9f7a9e-48b0-4da8-b57c-e641d21fabbe",
   "metadata": {},
   "source": [
    "> Missing data and handling it"
   ]
  },
  {
   "cell_type": "code",
   "execution_count": 4,
   "id": "e22298c9-aeb9-49a2-9584-43e2916f1820",
   "metadata": {},
   "outputs": [
    {
     "name": "stdout",
     "output_type": "stream",
     "text": [
      "missing values:  loan_amount               0\n",
      "lender_count              0\n",
      "status                    0\n",
      "repayment_term            0\n",
      "sector                    0\n",
      "location_country_code    17\n",
      "dtype: int64\n"
     ]
    }
   ],
   "source": [
    "print('missing values: ', df.isnull().sum())"
   ]
  },
  {
   "cell_type": "code",
   "execution_count": 5,
   "id": "a42caef4-1e0d-48cd-b5b5-c4bbb418af51",
   "metadata": {},
   "outputs": [],
   "source": [
    "df = df.fillna(method='ffill')"
   ]
  },
  {
   "cell_type": "code",
   "execution_count": null,
   "id": "20ce58e2-9e9d-4e95-b2f2-c404e5c0f680",
   "metadata": {},
   "outputs": [],
   "source": [
    "print('missing values: ', df.isnull().sum())"
   ]
  },
  {
   "cell_type": "markdown",
   "id": "fbc2a69b-f31a-44d6-b863-9326d3cbaa1c",
   "metadata": {},
   "source": [
    "> Data visualization"
   ]
  },
  {
   "cell_type": "code",
   "execution_count": null,
   "id": "28f53cc1-c024-45ad-ba3d-0261de5a79ce",
   "metadata": {},
   "outputs": [],
   "source": [
    "df['status'].value_counts().plot(kind='pie', figsize=(6,6))"
   ]
  },
  {
   "cell_type": "code",
   "execution_count": null,
   "id": "339d5b04-25f8-4045-9e98-c3e8d9efcfab",
   "metadata": {},
   "outputs": [],
   "source": [
    "df['sector'].value_counts().plot(kind='bar', figsize=(6,6))"
   ]
  },
  {
   "cell_type": "code",
   "execution_count": null,
   "id": "4564806d-b371-4504-b607-4d6cc8d29db2",
   "metadata": {},
   "outputs": [],
   "source": [
    "ax = sns.regplot(x='lender_count', y='loan_amount', data=df)"
   ]
  },
  {
   "cell_type": "code",
   "execution_count": null,
   "id": "474dfadf-98f0-4b65-8aa5-47fc7dbb59c4",
   "metadata": {},
   "outputs": [],
   "source": [
    "ax = sns.regplot(x='repayment_term', y='loan_amount',data=df)"
   ]
  },
  {
   "cell_type": "code",
   "execution_count": null,
   "id": "f3e51e13-d316-4809-b9c4-0e6a9205f3c2",
   "metadata": {},
   "outputs": [],
   "source": [
    "# sns.heatmap(df.corr())"
   ]
  },
  {
   "cell_type": "markdown",
   "id": "fad082e8-4015-43c9-8fe9-3823c05d221a",
   "metadata": {},
   "source": [
    "## One-Hot Encoding"
   ]
  },
  {
   "cell_type": "markdown",
   "id": "d744038b-30b3-4ff3-8ab5-a9b9d3ba2ed4",
   "metadata": {},
   "source": [
    "## method 1"
   ]
  },
  {
   "cell_type": "code",
   "execution_count": 6,
   "id": "721284b2-e29c-4f09-b4a0-dea816f0f0df",
   "metadata": {},
   "outputs": [],
   "source": [
    "df = pd.get_dummies(df, columns=['sector', 'status', 'location_country_code'],  drop_first=True, dtype=int)"
   ]
  },
  {
   "cell_type": "code",
   "execution_count": null,
   "id": "33748bc4-2363-4052-8180-63071e2095c8",
   "metadata": {},
   "outputs": [],
   "source": [
    "df.info()"
   ]
  },
  {
   "cell_type": "markdown",
   "id": "4de6b847-8ca2-4a84-8338-071a66771f49",
   "metadata": {
    "tags": []
   },
   "source": [
    "## Making the datasets (train, valid, test)"
   ]
  },
  {
   "cell_type": "code",
   "execution_count": null,
   "id": "ba15965f-9fab-43cc-b42c-88927d7d926d",
   "metadata": {},
   "outputs": [],
   "source": [
    "# train, valid, test = np.split(df.sample(frac=1), [int(0.8*len(df)), int(0.9*len(df))])"
   ]
  },
  {
   "cell_type": "code",
   "execution_count": null,
   "id": "3056abe2-5b83-4378-951c-a29843fbb195",
   "metadata": {},
   "outputs": [],
   "source": [
    "# train.head()"
   ]
  },
  {
   "cell_type": "code",
   "execution_count": null,
   "id": "2478dd95-e0d0-407a-8cf8-aabf209d224c",
   "metadata": {},
   "outputs": [],
   "source": [
    "# valid.head()"
   ]
  },
  {
   "cell_type": "code",
   "execution_count": null,
   "id": "d36da381-0ae6-434f-9910-21b82b1cf47e",
   "metadata": {},
   "outputs": [],
   "source": [
    "# test.head()"
   ]
  },
  {
   "cell_type": "code",
   "execution_count": null,
   "id": "5191b617-6277-41b3-b2fd-09c5005c0428",
   "metadata": {},
   "outputs": [],
   "source": [
    "# print('train data shape :      ', train.shape)\n",
    "# print('validating data shape : ', valid.shape)\n",
    "# print('test data shape :       ', test.shape)"
   ]
  },
  {
   "cell_type": "markdown",
   "id": "7fe81213-22ba-4dc1-8e79-b55fefc395d8",
   "metadata": {},
   "source": [
    "## Spliting data "
   ]
  },
  {
   "cell_type": "code",
   "execution_count": 26,
   "id": "cb002e99-00d8-4f8e-8350-3c9c48ce7875",
   "metadata": {},
   "outputs": [],
   "source": [
    "X = df.drop('loan_amount', axis=1)\n",
    "y = df['loan_amount']\n",
    "X_train, X_test, y_train, y_test = train_test_split(X, y, test_size=0.2, random_state=42)"
   ]
  },
  {
   "cell_type": "markdown",
   "id": "5ebf5139-c487-45ce-9d13-cbe4ac77010f",
   "metadata": {},
   "source": [
    "## Scale the features"
   ]
  },
  {
   "cell_type": "code",
   "execution_count": 27,
   "id": "9f48c77f-94f5-4587-9170-72de31ee197f",
   "metadata": {},
   "outputs": [],
   "source": [
    "scaler = StandardScaler()\n",
    "X_train_scaled = scaler.fit_transform(X_train)\n",
    "X_test_scaled = scaler.transform(X_test)"
   ]
  },
  {
   "cell_type": "markdown",
   "id": "566d4409-b714-4ebf-8765-23d2182defe7",
   "metadata": {
    "tags": []
   },
   "source": [
    "## Models"
   ]
  },
  {
   "cell_type": "markdown",
   "id": "f9f61fb6-0799-46dd-abe4-02ca3194068f",
   "metadata": {},
   "source": [
    "### logistic Regression"
   ]
  },
  {
   "cell_type": "code",
   "execution_count": 28,
   "id": "516ae87f-3dd0-47d4-a63d-9ec63930447f",
   "metadata": {},
   "outputs": [],
   "source": [
    "from sklearn.linear_model import LogisticRegression"
   ]
  },
  {
   "cell_type": "code",
   "execution_count": 29,
   "id": "2a589da8-113f-4185-b42b-d929771f11f8",
   "metadata": {},
   "outputs": [
    {
     "data": {
      "text/html": [
       "<style>#sk-container-id-3 {color: black;}#sk-container-id-3 pre{padding: 0;}#sk-container-id-3 div.sk-toggleable {background-color: white;}#sk-container-id-3 label.sk-toggleable__label {cursor: pointer;display: block;width: 100%;margin-bottom: 0;padding: 0.3em;box-sizing: border-box;text-align: center;}#sk-container-id-3 label.sk-toggleable__label-arrow:before {content: \"▸\";float: left;margin-right: 0.25em;color: #696969;}#sk-container-id-3 label.sk-toggleable__label-arrow:hover:before {color: black;}#sk-container-id-3 div.sk-estimator:hover label.sk-toggleable__label-arrow:before {color: black;}#sk-container-id-3 div.sk-toggleable__content {max-height: 0;max-width: 0;overflow: hidden;text-align: left;background-color: #f0f8ff;}#sk-container-id-3 div.sk-toggleable__content pre {margin: 0.2em;color: black;border-radius: 0.25em;background-color: #f0f8ff;}#sk-container-id-3 input.sk-toggleable__control:checked~div.sk-toggleable__content {max-height: 200px;max-width: 100%;overflow: auto;}#sk-container-id-3 input.sk-toggleable__control:checked~label.sk-toggleable__label-arrow:before {content: \"▾\";}#sk-container-id-3 div.sk-estimator input.sk-toggleable__control:checked~label.sk-toggleable__label {background-color: #d4ebff;}#sk-container-id-3 div.sk-label input.sk-toggleable__control:checked~label.sk-toggleable__label {background-color: #d4ebff;}#sk-container-id-3 input.sk-hidden--visually {border: 0;clip: rect(1px 1px 1px 1px);clip: rect(1px, 1px, 1px, 1px);height: 1px;margin: -1px;overflow: hidden;padding: 0;position: absolute;width: 1px;}#sk-container-id-3 div.sk-estimator {font-family: monospace;background-color: #f0f8ff;border: 1px dotted black;border-radius: 0.25em;box-sizing: border-box;margin-bottom: 0.5em;}#sk-container-id-3 div.sk-estimator:hover {background-color: #d4ebff;}#sk-container-id-3 div.sk-parallel-item::after {content: \"\";width: 100%;border-bottom: 1px solid gray;flex-grow: 1;}#sk-container-id-3 div.sk-label:hover label.sk-toggleable__label {background-color: #d4ebff;}#sk-container-id-3 div.sk-serial::before {content: \"\";position: absolute;border-left: 1px solid gray;box-sizing: border-box;top: 0;bottom: 0;left: 50%;z-index: 0;}#sk-container-id-3 div.sk-serial {display: flex;flex-direction: column;align-items: center;background-color: white;padding-right: 0.2em;padding-left: 0.2em;position: relative;}#sk-container-id-3 div.sk-item {position: relative;z-index: 1;}#sk-container-id-3 div.sk-parallel {display: flex;align-items: stretch;justify-content: center;background-color: white;position: relative;}#sk-container-id-3 div.sk-item::before, #sk-container-id-3 div.sk-parallel-item::before {content: \"\";position: absolute;border-left: 1px solid gray;box-sizing: border-box;top: 0;bottom: 0;left: 50%;z-index: -1;}#sk-container-id-3 div.sk-parallel-item {display: flex;flex-direction: column;z-index: 1;position: relative;background-color: white;}#sk-container-id-3 div.sk-parallel-item:first-child::after {align-self: flex-end;width: 50%;}#sk-container-id-3 div.sk-parallel-item:last-child::after {align-self: flex-start;width: 50%;}#sk-container-id-3 div.sk-parallel-item:only-child::after {width: 0;}#sk-container-id-3 div.sk-dashed-wrapped {border: 1px dashed gray;margin: 0 0.4em 0.5em 0.4em;box-sizing: border-box;padding-bottom: 0.4em;background-color: white;}#sk-container-id-3 div.sk-label label {font-family: monospace;font-weight: bold;display: inline-block;line-height: 1.2em;}#sk-container-id-3 div.sk-label-container {text-align: center;}#sk-container-id-3 div.sk-container {/* jupyter's `normalize.less` sets `[hidden] { display: none; }` but bootstrap.min.css set `[hidden] { display: none !important; }` so we also need the `!important` here to be able to override the default hidden behavior on the sphinx rendered scikit-learn.org. See: https://github.com/scikit-learn/scikit-learn/issues/21755 */display: inline-block !important;position: relative;}#sk-container-id-3 div.sk-text-repr-fallback {display: none;}</style><div id=\"sk-container-id-3\" class=\"sk-top-container\"><div class=\"sk-text-repr-fallback\"><pre>LogisticRegression()</pre><b>In a Jupyter environment, please rerun this cell to show the HTML representation or trust the notebook. <br />On GitHub, the HTML representation is unable to render, please try loading this page with nbviewer.org.</b></div><div class=\"sk-container\" hidden><div class=\"sk-item\"><div class=\"sk-estimator sk-toggleable\"><input class=\"sk-toggleable__control sk-hidden--visually\" id=\"sk-estimator-id-3\" type=\"checkbox\" checked><label for=\"sk-estimator-id-3\" class=\"sk-toggleable__label sk-toggleable__label-arrow\">LogisticRegression</label><div class=\"sk-toggleable__content\"><pre>LogisticRegression()</pre></div></div></div></div></div>"
      ],
      "text/plain": [
       "LogisticRegression()"
      ]
     },
     "execution_count": 29,
     "metadata": {},
     "output_type": "execute_result"
    }
   ],
   "source": [
    "log_model = LogisticRegression()\n",
    "log_model.fit(X_train_scaled, y_train)"
   ]
  },
  {
   "cell_type": "code",
   "execution_count": 30,
   "id": "be2f524b-84a5-4247-bc0d-02b13781e498",
   "metadata": {},
   "outputs": [
    {
     "data": {
      "text/plain": [
       "0.22591362126245848"
      ]
     },
     "execution_count": 30,
     "metadata": {},
     "output_type": "execute_result"
    }
   ],
   "source": [
    "score = log_model.score(X_test_scaled, y_test)\n",
    "score"
   ]
  },
  {
   "cell_type": "code",
   "execution_count": 24,
   "id": "b96374b8-4085-4e87-8f37-a2bd068f1fc3",
   "metadata": {},
   "outputs": [],
   "source": [
    "y_pred = log_model.predict(X_test_scaled)"
   ]
  },
  {
   "cell_type": "code",
   "execution_count": 25,
   "id": "0fb9998c-cf31-4061-9d96-5f8d63ca4689",
   "metadata": {},
   "outputs": [
    {
     "data": {
      "text/plain": [
       "array([[1, 0, 0, ..., 0, 0, 0],\n",
       "       [0, 0, 0, ..., 0, 0, 0],\n",
       "       [0, 0, 5, ..., 0, 0, 0],\n",
       "       ...,\n",
       "       [0, 0, 0, ..., 0, 0, 0],\n",
       "       [0, 0, 0, ..., 0, 0, 1],\n",
       "       [0, 0, 0, ..., 0, 0, 0]])"
      ]
     },
     "execution_count": 25,
     "metadata": {},
     "output_type": "execute_result"
    }
   ],
   "source": [
    "cm = confusion_matrix(y_test, y_pred)\n",
    "cm"
   ]
  },
  {
   "cell_type": "code",
   "execution_count": 35,
   "id": "632e6d42-45ae-44d0-8088-3532ee41bcc4",
   "metadata": {
    "collapsed": true,
    "jupyter": {
     "outputs_hidden": true
    },
    "scrolled": true
   },
   "outputs": [
    {
     "data": {
      "image/png": "[encoded data removed]",
      "text/plain": [
       "<Figure size 800x800 with 2 Axes>"
      ]
     },
     "metadata": {},
     "output_type": "display_data"
    }
   ],
   "source": [
    "plt.figure(figsize=(8, 8))\n",
    "sns.heatmap(cm, annot=True, fmt='.3f', linewidths=.5, square=True, cmap='Blues_r');\n",
    "plt.ylabel('Actual label')\n",
    "plt.xlabel('Predicted label')\n",
    "plt.title('Predictions')\n",
    "\n",
    "plt.show()\n"
   ]
  },
  {
   "cell_type": "markdown",
   "id": "2a30a27d-d60c-4ed7-aeb4-8b6edf485c5f",
   "metadata": {},
   "source": [
    "### KNN model"
   ]
  },
  {
   "cell_type": "code",
   "execution_count": null,
   "id": "52f8d203-1f4e-4af1-9ace-b10752ca5a5e",
   "metadata": {},
   "outputs": [],
   "source": [
    "from sklearn.neighbors import KNeighborsClassifier"
   ]
  },
  {
   "cell_type": "code",
   "execution_count": null,
   "id": "ca2d68e3-e22a-4da2-b281-683e8c710eb2",
   "metadata": {},
   "outputs": [],
   "source": [
    "knn_model = KNeighborsClassifier(n_neighbors=3)\n",
    "knn_model.fit(X_train, y_train)"
   ]
  },
  {
   "cell_type": "code",
   "execution_count": null,
   "id": "b20e06ba-7894-45a9-a766-2d06dfe64e1a",
   "metadata": {},
   "outputs": [],
   "source": [
    "y_pred = knn_model.predict(X_test_scaled)\n",
    "accuracy = accuracy_score(y_test, y_pred)\n",
    "classification_report_output = classification_report(y_test, y_pred)\n",
    "conf_matrix = confusion_matrix(y_test, y_pred)"
   ]
  },
  {
   "cell_type": "code",
   "execution_count": null,
   "id": "6b68b4a5-39aa-4b70-8481-66ee1e47e1d3",
   "metadata": {},
   "outputs": [],
   "source": [
    "print(\"Accuracy:\", accuracy)\n",
    "# print(\"Classification Report:\")\n",
    "# print(classification_report_output)\n",
    "print(\"Confusion Matrix:\")\n",
    "print(conf_matrix)"
   ]
  },
  {
   "cell_type": "markdown",
   "id": "c5fea4da-0178-4866-be65-e959ca6d1ee2",
   "metadata": {},
   "source": [
    "### Naive Bayes model"
   ]
  },
  {
   "cell_type": "code",
   "execution_count": null,
   "id": "9ca84c92-1cf1-4f6a-a128-03a67d164144",
   "metadata": {},
   "outputs": [],
   "source": [
    "from sklearn.naive_bayes import GaussianNB"
   ]
  },
  {
   "cell_type": "code",
   "execution_count": null,
   "id": "a224c917-6e65-4593-9ceb-b169ae8709d7",
   "metadata": {},
   "outputs": [],
   "source": [
    "nb_model = GaussianNB()\n",
    "nb_model.fit(X_train, y_train)"
   ]
  },
  {
   "cell_type": "code",
   "execution_count": null,
   "id": "475d2bca-1164-48b5-bea8-0efb4819f2ad",
   "metadata": {},
   "outputs": [],
   "source": [
    "y_pred = nb_model.predict(X_test_scaled)\n",
    "accuracy = accuracy_score(y_test, y_pred)\n",
    "classification_report_output = classification_report(y_test, y_pred)\n",
    "conf_matrix = confusion_matrix(y_test, y_pred)"
   ]
  },
  {
   "cell_type": "code",
   "execution_count": null,
   "id": "138cfbb9-8c81-4eed-a286-5446ef0a40a4",
   "metadata": {},
   "outputs": [],
   "source": [
    "print(\"Accuracy:\", accuracy)\n",
    "# print(\"Classification Report:\")\n",
    "# print(classification_report_output)\n",
    "print(\"Confusion Matrix:\")\n",
    "print(conf_matrix)"
   ]
  },
  {
   "cell_type": "markdown",
   "id": "61170f39-3b21-4519-b8f4-a189d4332932",
   "metadata": {},
   "source": [
    "### Support vector model"
   ]
  },
  {
   "cell_type": "code",
   "execution_count": null,
   "id": "8690c9ad-1066-4dac-96c7-dd56a8f35f07",
   "metadata": {},
   "outputs": [],
   "source": [
    "from sklearn.svm import SVC"
   ]
  },
  {
   "cell_type": "code",
   "execution_count": null,
   "id": "251fb456-0552-4f24-87c6-7bbcf1d7f72b",
   "metadata": {},
   "outputs": [],
   "source": [
    "svm_model = SVC()\n",
    "svm_model = svm_model.fit(X_train, y_train)"
   ]
  },
  {
   "cell_type": "code",
   "execution_count": null,
   "id": "2f566162-6049-4d6b-ba5e-8deeddba3ba0",
   "metadata": {},
   "outputs": [],
   "source": [
    "y_pred = svm_model.predict(X_test_scaled)\n",
    "accuracy = accuracy_score(y_test, y_pred)\n",
    "classification_report_output = classification_report(y_test, y_pred)\n",
    "conf_matrix = confusion_matrix(y_test, y_pred)"
   ]
  },
  {
   "cell_type": "code",
   "execution_count": null,
   "id": "04ccdb4a-c75e-420a-bbee-f400473eec56",
   "metadata": {},
   "outputs": [],
   "source": [
    "print(\"Accuracy:\", accuracy)\n",
    "# print(\"Classification Report:\")\n",
    "# print(classification_report_output)\n",
    "print(\"Confusion Matrix:\")\n",
    "print(conf_matrix)"
   ]
  },
  {
   "cell_type": "code",
   "execution_count": null,
   "id": "fb704882-4d5e-4e36-a4f6-6fae9b4246ad",
   "metadata": {},
   "outputs": [],
   "source": [
    "from sklearn.ensemble import RandomForestClassifier\n",
    "from sklearn.metrics import accuracy_score, classification_report, confusion_matrix"
   ]
  },
  {
   "cell_type": "code",
   "execution_count": null,
   "id": "1690b4ea-817e-4de7-8474-6fecea94577f",
   "metadata": {},
   "outputs": [],
   "source": [
    "rf_model = RandomForestClassifier()  \n",
    "rf_model.fit(X_train, y_train) "
   ]
  },
  {
   "cell_type": "code",
   "execution_count": null,
   "id": "c9042a46-0050-4299-be24-b2e23a1d64f4",
   "metadata": {},
   "outputs": [],
   "source": [
    "y_pred = rf_model.predict(X_test_scaled)  "
   ]
  },
  {
   "cell_type": "code",
   "execution_count": null,
   "id": "e57a78c9-029a-4b05-9fa0-d24a96f15cf9",
   "metadata": {},
   "outputs": [],
   "source": [
    "accuracy = accuracy_score(y_test, y_pred) \n",
    "classification_report_output = classification_report(y_test, y_pred)  \n",
    "conf_matrix = confusion_matrix(y_test, y_pred)  "
   ]
  },
  {
   "cell_type": "code",
   "execution_count": null,
   "id": "b8663ec9-cb59-44f9-88b1-9b498cbd240c",
   "metadata": {},
   "outputs": [],
   "source": [
    "print(\"Accuracy:\", accuracy) \n",
    "# print(\"Classification Report:\")\n",
    "# print(classification_report_output) \n",
    "print(\"Confusion Matrix:\")\n",
    "print(conf_matrix)"
   ]
  },
  {
   "cell_type": "code",
   "execution_count": null,
   "id": "43122950-b30b-4ce7-a372-8404c0727a64",
   "metadata": {},
   "outputs": [],
   "source": []
  },
  {
   "cell_type": "code",
   "execution_count": null,
   "id": "846e6a2b-fd49-49fe-a8b8-c716c9686595",
   "metadata": {},
   "outputs": [],
   "source": []
  },
  {
   "cell_type": "markdown",
   "id": "15b46ed7-1752-4d63-85e1-893ae2416a8c",
   "metadata": {},
   "source": [
    "## Making the Pickle file"
   ]
  },
  {
   "cell_type": "code",
   "execution_count": null,
   "id": "c596d589-7395-4431-822d-244171cc8182",
   "metadata": {},
   "outputs": [],
   "source": [
    "# Save the trained model to a pickle file\n",
    "with open('model.pkl', 'wb') as f:\n",
    "    pickle.dump(svm_model, f)\n",
    "\n",
    "print(\"The best model (logistic regression) has been saved to 'model.pkl'.\")"
   ]
  },
  {
   "cell_type": "code",
   "execution_count": null,
   "id": "09662339-886e-4394-a9f9-c3a92b548dd0",
   "metadata": {},
   "outputs": [],
   "source": []
  }
 ],
 "metadata": {
  "kernelspec": {
   "display_name": "Python 3 (ipykernel)",
   "language": "python",
   "name": "python3"
  },
  "language_info": {
   "codemirror_mode": {
    "name": "ipython",
    "version": 3
   },
   "file_extension": ".py",
   "mimetype": "text/x-python",
   "name": "python",
   "nbconvert_exporter": "python",
   "pygments_lexer": "ipython3",
   "version": "3.11.6"
  }
 },
 "nbformat": 4,
 "nbformat_minor": 5
}
