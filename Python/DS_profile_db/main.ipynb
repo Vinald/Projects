{
  "cells": [
    {
      "cell_type": "markdown",
      "id": "governmental-worry",
      "metadata": {
        "id": "governmental-worry"
      },
      "source": [
        "## Problem\n",
        "\n",
        "\n",
        "\n",
        "- As a senior backend engineer at Jovian, you are tasked with developing a fast in-memory data structure to manage profile information (username, name and email) for 100 million users.\n",
        "\n",
        "-  It should allow the following operations to be performed efficiently:\n",
        "\n",
        "\n",
        "> 1. **Insert** the profile information for a new user.\n",
        "\n",
        "> 2. **Find** the profile information of a user, given their username\n",
        "\n",
        "> 3. **Update** the profile information of a user, given their usrname\n",
        "\n",
        "> 5. **List** all the users of the platform, sorted by username\n",
        "\n",
        "> You can assume that usernames are unique.\n"
      ]
    },
    {
      "cell_type": "markdown",
      "id": "primary-adjustment",
      "metadata": {
        "id": "primary-adjustment"
      },
      "source": [
        "## The Method\n",
        "\n",
        "1. State the problem clearly. Identify the input & output formats.\n",
        "\n",
        "2. Come up with some example inputs & outputs. Try to cover all edge cases.\n",
        "\n",
        "3. Come up with a correct solution for the problem. State it in plain English.\n",
        "\n",
        "4. Implement the solution and test it using example inputs. Fix bugs, if any.\n",
        "\n",
        "5. Analyze the algorithm's complexity and identify inefficiencies, if any.\n",
        "\n",
        "6. Apply the right technique to overcome the inefficiency. Repeat steps 3 to 6."
      ]
    },
    {
      "cell_type": "markdown",
      "id": "three-register",
      "metadata": {
        "id": "three-register"
      },
      "source": [
        "## 1. State the problem clearly. Identify the input & output formats.\n",
        "\n",
        "#### Problem\n",
        "\n",
        "> We need to create a data structure which can store 100 million records and perform insertion, search, update and list operations efficiently.\n",
        "\n",
        "#### Input\n",
        "\n",
        "- user profiles\n",
        "    \n",
        "    - the username, \n",
        "    \n",
        "    - name and \n",
        "    \n",
        "    - email of a user.\n",
        "\n",
        "A Python _class_ would be a great way to represent the information for a user."
      ]
    },
    {
      "cell_type": "code",
      "execution_count": 1,
      "id": "exempt-financing",
      "metadata": {
        "id": "exempt-financing"
      },
      "outputs": [
        {
          "name": "stdout",
          "output_type": "stream",
          "text": [
            "User created!\n"
          ]
        },
        {
          "data": {
            "text/plain": [
              "<__main__.User at 0x7b549c501c70>"
            ]
          },
          "execution_count": 1,
          "metadata": {},
          "output_type": "execute_result"
        }
      ],
      "source": [
        "class User:\n",
        "    def __init__(self, username, name, email):\n",
        "        self.username = username\n",
        "        self.name = name\n",
        "        self.email = email\n",
        "        print('User created!')\n",
        "        \n",
        "user2 = User('john', 'John Doe', 'john@doe.com')\n",
        "user2"
      ]
    },
    {
      "cell_type": "markdown",
      "id": "injured-sheffield",
      "metadata": {
        "id": "injured-sheffield"
      },
      "source": [
        "We can access the properties of the object using the `.` notation."
      ]
    },
    {
      "cell_type": "code",
      "execution_count": 2,
      "id": "blessed-albert",
      "metadata": {
        "id": "blessed-albert",
        "outputId": "bf40cd9a-0868-475b-f292-4d59e8525f09"
      },
      "outputs": [
        {
          "data": {
            "text/plain": [
              "'John Doe'"
            ]
          },
          "execution_count": 2,
          "metadata": {},
          "output_type": "execute_result"
        }
      ],
      "source": [
        "user2.name"
      ]
    },
    {
      "cell_type": "code",
      "execution_count": 3,
      "id": "strategic-mixture",
      "metadata": {
        "id": "strategic-mixture",
        "outputId": "ed6f8cd6-22ca-4efe-f5fa-be4a21fb7df1"
      },
      "outputs": [
        {
          "data": {
            "text/plain": [
              "('john@doe.com', 'john')"
            ]
          },
          "execution_count": 3,
          "metadata": {},
          "output_type": "execute_result"
        }
      ],
      "source": [
        "user2.email, user2.username"
      ]
    },
    {
      "cell_type": "markdown",
      "id": "international-arrow",
      "metadata": {
        "id": "international-arrow"
      },
      "source": [
        "You can also define custom methods inside a class."
      ]
    },
    {
      "cell_type": "code",
      "execution_count": 4,
      "id": "trying-listening",
      "metadata": {
        "id": "trying-listening"
      },
      "outputs": [
        {
          "name": "stdout",
          "output_type": "stream",
          "text": [
            "Hi David, I'm Jane Doe! Contact me at jane@doe.com .\n"
          ]
        }
      ],
      "source": [
        "class User:\n",
        "    def __init__(self, username, name, email):\n",
        "        self.username = username\n",
        "        self.name = name\n",
        "        self.email = email\n",
        "\n",
        "    def introduce_yourself(self, guest_name):\n",
        "        print(f\"Hi {guest_name}, I'm {self.name}! Contact me at {self.email} .\")\n",
        "\n",
        "user3 = User('jane', 'Jane Doe', 'jane@doe.com')\n",
        "user3.introduce_yourself('David')"
      ]
    },
    {
      "cell_type": "code",
      "execution_count": 5,
      "id": "regular-equivalent",
      "metadata": {
        "id": "regular-equivalent"
      },
      "outputs": [
        {
          "data": {
            "text/plain": [
              "User (username='jane', name='Jane Doe', email='jane@doe.com')"
            ]
          },
          "execution_count": 5,
          "metadata": {},
          "output_type": "execute_result"
        }
      ],
      "source": [
        "class User:\n",
        "    def __init__(self, username, name, email):\n",
        "        self.username = username\n",
        "        self.name = name\n",
        "        self.email = email\n",
        "\n",
        "    def __repr__(self):\n",
        "        return f\"User (username='{self.username}', name='{self.name}', email='{self.email}')\"\n",
        "\n",
        "    def __str__(self):\n",
        "        return self.__repr__()\n",
        "\n",
        "\n",
        "user4 = User('jane', 'Jane Doe', 'jane@doe.com')\n",
        "user4"
      ]
    },
    {
      "cell_type": "markdown",
      "id": "laden-tiger",
      "metadata": {
        "id": "laden-tiger"
      },
      "source": [
        "## 2. Come up with some example inputs & outputs."
      ]
    },
    {
      "cell_type": "code",
      "execution_count": 6,
      "id": "appointed-guatemala",
      "metadata": {
        "id": "appointed-guatemala"
      },
      "outputs": [],
      "source": [
        "peter = User('peter', 'peter', 'peter@example.com')\n",
        "joseph = User('joseph', 'joseph', 'joseph@example.com')\n",
        "simon = User('simon', 'peter', 'simon@example.com')\n",
        "marion = User('marion', 'william', 'marion@example.com')\n",
        "joy = User('joy', 'gloria', 'joy@example.com')\n",
        "samuel = User('samuel', 'sam', 'samuel@example.com')\n",
        "stephen = User('stephen', 's', 'stephen@example.com')\n",
        "\n",
        "users = [peter, joseph, simon, marion, joy, samuel, stephen]"
      ]
    },
    {
      "cell_type": "markdown",
      "id": "introductory-prison",
      "metadata": {
        "id": "introductory-prison"
      },
      "source": [
        "We can access different fields within a user profile object using the `.` (dot) notation."
      ]
    },
    {
      "cell_type": "code",
      "execution_count": 7,
      "id": "extreme-judge",
      "metadata": {
        "id": "extreme-judge",
        "outputId": "3a4d5e2f-9ad0-47ba-ec54-20c1c2406405"
      },
      "outputs": [
        {
          "data": {
            "text/plain": [
              "('samuel', 'samuel@example.com', 'sam')"
            ]
          },
          "execution_count": 7,
          "metadata": {},
          "output_type": "execute_result"
        }
      ],
      "source": [
        "samuel.username, samuel.email, samuel.name"
      ]
    },
    {
      "cell_type": "markdown",
      "id": "reserved-transition",
      "metadata": {
        "id": "reserved-transition"
      },
      "source": [
        "We can also view a string representation of the object, since defined the `__repr__` and `__str__` methods"
      ]
    },
    {
      "cell_type": "code",
      "execution_count": 8,
      "id": "conceptual-clearing",
      "metadata": {
        "id": "conceptual-clearing",
        "outputId": "89235c1f-d69d-4102-fe47-21b5971b3d97",
        "scrolled": true
      },
      "outputs": [
        {
          "name": "stdout",
          "output_type": "stream",
          "text": [
            "User (username='samuel', name='sam', email='samuel@example.com')\n"
          ]
        }
      ],
      "source": [
        "print(samuel)"
      ]
    },
    {
      "cell_type": "code",
      "execution_count": 9,
      "id": "funky-start",
      "metadata": {
        "id": "funky-start",
        "outputId": "04d95759-5ea4-41d8-cdd5-e3b5e7c1c166"
      },
      "outputs": [
        {
          "data": {
            "text/plain": [
              "[User (username='peter', name='peter', email='peter@example.com'),\n",
              " User (username='joseph', name='joseph', email='joseph@example.com'),\n",
              " User (username='simon', name='peter', email='simon@example.com'),\n",
              " User (username='marion', name='william', email='marion@example.com'),\n",
              " User (username='joy', name='gloria', email='joy@example.com'),\n",
              " User (username='samuel', name='sam', email='samuel@example.com'),\n",
              " User (username='stephen', name='s', email='stephen@example.com')]"
            ]
          },
          "execution_count": 9,
          "metadata": {},
          "output_type": "execute_result"
        }
      ],
      "source": [
        "users"
      ]
    },
    {
      "cell_type": "markdown",
      "id": "nuclear-infrared",
      "metadata": {
        "id": "nuclear-infrared"
      },
      "source": [
        "## 3. Come up with a correct solution. State it in plain English.\n",
        "\n",
        "we store the `User` objects in a list sorted by usernames.\n",
        "\n",
        "The various functions can be implemented as follows:\n",
        "\n",
        "\n",
        "1. **Insert**: Loop through the list and add the new user at a position that keeps the list sorted.\n",
        "\n",
        "2. **Find**: Loop through the list and find the user object with the username matching the query.\n",
        "\n",
        "3. **Update**: Loop through the list, find the user object matching the query and update the details\n",
        "\n",
        "4. **List**: Return the list of user objects.\n",
        "\n",
        "We can use the fact usernames, which are are strings can be compared using the `<`, `>` and `==` operators in Python."
      ]
    },
    {
      "cell_type": "code",
      "execution_count": 10,
      "id": "fifth-polymer",
      "metadata": {
        "id": "fifth-polymer",
        "outputId": "8d6e65ef-4120-414a-af78-7ffbfdbff373"
      },
      "outputs": [
        {
          "data": {
            "text/plain": [
              "True"
            ]
          },
          "execution_count": 10,
          "metadata": {},
          "output_type": "execute_result"
        }
      ],
      "source": [
        "'biraj' < 'hemanth'"
      ]
    },
    {
      "cell_type": "markdown",
      "id": "computational-affairs",
      "metadata": {
        "id": "computational-affairs"
      },
      "source": [
        "## 4. Implement the solution and test it using example inputs.\n",
        "\n",
        "The code for implementing the above solution is also fairly straightfoward."
      ]
    },
    {
      "cell_type": "code",
      "execution_count": 11,
      "id": "detailed-technician",
      "metadata": {
        "id": "detailed-technician"
      },
      "outputs": [],
      "source": [
        "class UserDatabase:\n",
        "    def __init__(self):\n",
        "        self.users = []\n",
        "\n",
        "    def insert(self, user):\n",
        "        i = 0\n",
        "        while i < len(self.users):\n",
        "            # Find the first username greater than the new user's username\n",
        "            if self.users[i].username > user.username:\n",
        "                break\n",
        "            i += 1\n",
        "        self.users.insert(i, user)\n",
        "\n",
        "    def find(self, username):\n",
        "        for user in self.users:\n",
        "            if user.username == username:\n",
        "                return user\n",
        "\n",
        "    def update(self, user):\n",
        "        target = self.find(user.username)\n",
        "        target.name, target.email = user.name, user.email\n",
        "\n",
        "    def list_all(self):\n",
        "        return self.users"
      ]
    },
    {
      "cell_type": "markdown",
      "id": "rational-retrieval",
      "metadata": {
        "id": "rational-retrieval"
      },
      "source": [
        "We can create a new database of users by _instantiating_ and object of the `UserDatabase` class."
      ]
    },
    {
      "cell_type": "code",
      "execution_count": 12,
      "id": "useful-sperm",
      "metadata": {
        "id": "useful-sperm"
      },
      "outputs": [
        {
          "data": {
            "text/plain": [
              "User (username='joy', name='gloria', email='joy@example.com')"
            ]
          },
          "execution_count": 12,
          "metadata": {},
          "output_type": "execute_result"
        }
      ],
      "source": [
        "database = UserDatabase()\n",
        "\n",
        "database.insert(samuel)\n",
        "database.insert(joy)\n",
        "database.insert(stephen)\n",
        "\n",
        "user = database.find('joy')\n",
        "user"
      ]
    },
    {
      "cell_type": "markdown",
      "id": "lesbian-location",
      "metadata": {
        "id": "lesbian-location"
      },
      "source": [
        "Let's try changing the information for a user"
      ]
    },
    {
      "cell_type": "code",
      "execution_count": 13,
      "id": "wanted-colonial",
      "metadata": {
        "id": "wanted-colonial"
      },
      "outputs": [],
      "source": [
        "database.update(User(username='joy', name='mj', email='mj@example.com'))\n",
        "\n",
        "user = database.find('mj')\n",
        "user"
      ]
    },
    {
      "cell_type": "code",
      "execution_count": 14,
      "id": "approved-square",
      "metadata": {
        "id": "approved-square",
        "outputId": "e4c150e4-013e-413a-d4e7-50d99361cf98"
      },
      "outputs": [
        {
          "data": {
            "text/plain": [
              "[User (username='joy', name='mj', email='mj@example.com'),\n",
              " User (username='samuel', name='sam', email='samuel@example.com'),\n",
              " User (username='stephen', name='s', email='stephen@example.com')]"
            ]
          },
          "execution_count": 14,
          "metadata": {},
          "output_type": "execute_result"
        }
      ],
      "source": [
        "database.list_all()"
      ]
    },
    {
      "cell_type": "markdown",
      "id": "together-basketball",
      "metadata": {
        "id": "together-basketball"
      },
      "source": [
        "Let's verify that a new user is inserted into the correct position."
      ]
    },
    {
      "cell_type": "code",
      "execution_count": 15,
      "id": "advised-hungarian",
      "metadata": {
        "id": "advised-hungarian"
      },
      "outputs": [
        {
          "data": {
            "text/plain": [
              "[User (username='joy', name='mj', email='mj@example.com'),\n",
              " User (username='samuel', name='sam', email='samuel@example.com'),\n",
              " User (username='simon', name='peter', email='simon@example.com'),\n",
              " User (username='stephen', name='s', email='stephen@example.com')]"
            ]
          },
          "execution_count": 15,
          "metadata": {},
          "output_type": "execute_result"
        }
      ],
      "source": [
        "database.insert(simon)\n",
        "database.list_all()"
      ]
    },
    {
      "cell_type": "markdown",
      "id": "dangerous-venezuela",
      "metadata": {
        "id": "dangerous-venezuela"
      },
      "source": [
        "### 5. Analyze the algorithm's complexity and identify inefficiencies\n",
        "\n",
        "1. Insert: **O(N)**\n",
        "\n",
        "2. Find: **O(N)**\n",
        "\n",
        "3. Update: **O(N)**\n",
        "\n",
        "4. List: **O(1)**"
      ]
    },
    {
      "cell_type": "markdown",
      "id": "49e65cba",
      "metadata": {},
      "source": [
        "## 6. An Optimized solution"
      ]
    },
    {
      "cell_type": "markdown",
      "id": "42cf9070",
      "metadata": {},
      "source": [
        "### A Python-Friendly Treemap\n",
        "\n",
        "We are now ready to return to our original problem statement.\n",
        "\n",
        "> **QUESTION 1**: As a senior backend engineer at Jovian, you are tasked with developing a fast in-memory data structure to manage profile information (username, name and email) for 100 million users. It should allow the following operations to be performed efficiently:\n",
        ">\n",
        "> 1. **Insert** the profile information for a new user.\n",
        "> 2. **Find** the profile information of a user, given their username\n",
        "> 3. **Update** the profile information of a user, given their usrname\n",
        "> 5. **List** all the users of the platform, sorted by username\n",
        ">\n",
        "> You can assume that usernames are unique.\n",
        "\n",
        "\n",
        "\n",
        "We can create a generic class `TreeMap` which supports all the operations specified in the original problem statement in a python-friendly manner."
      ]
    },
    {
      "cell_type": "code",
      "execution_count": 16,
      "id": "39496787",
      "metadata": {},
      "outputs": [],
      "source": [
        "\n",
        "# Binary Search tree class (to store key value pairs)\n",
        "class BSTNode():\n",
        "    '''\n",
        "    (key ---> 'jadhesh',\n",
        "    Value ---> User(username='jadhesh', name='Jadhesh Verma', email='jadhesh@example.com'))\n",
        "\n",
        "    '''\n",
        "\n",
        "    def __init__(self, key, value=None):\n",
        "        self.key = key\n",
        "        self.value = value\n",
        "        self.left = None\n",
        "        self.right = None\n",
        "        self.parent = None\n",
        "\n",
        "    # Insert nodes into the tree\n",
        "    def insert(self, key, value):\n",
        "        if self is None:\n",
        "            self = BSTNode(key, value)\n",
        "        elif key < self.key:\n",
        "            self.left = BSTNode.insert(self.left, key, value)\n",
        "            self.left.parent = self\n",
        "        elif key > self.key:\n",
        "            self.right = BSTNode.insert(self.right, key, value)\n",
        "            self.right.parent = self\n",
        "        return self\n",
        "\n",
        "    # Display the tree\n",
        "    def display_keys(self, space='\\t', level=0):\n",
        "        # print(node.key if node else None, level)\n",
        "\n",
        "        # If the node is empty\n",
        "        if self is None:\n",
        "            print(space*level + '|')\n",
        "            return\n",
        "\n",
        "        # If the node is a leaf\n",
        "        if self.left is None and self.right is None:\n",
        "            print(space*level + str(self.key))\n",
        "            return\n",
        "\n",
        "        # If the self has children\n",
        "        BSTNode.display_keys(self.right, space, level+1)\n",
        "        print(space*level + str(self.key))\n",
        "        BSTNode.display_keys(self.left, space, level+1)\n",
        "\n",
        "    # Height of the tree\n",
        "    def tree_height(self):\n",
        "        if self is None:\n",
        "            return 0\n",
        "        return 1 + max(BSTNode.tree_height(self.left), BSTNode.tree_height(self.right))\n",
        "\n",
        "    # Find a node in the tree\n",
        "    def find(self, key):\n",
        "        if self is None:\n",
        "            return None\n",
        "        if key == self.key:\n",
        "            return self\n",
        "        if key < self.key:\n",
        "            return BSTNode.find(self.left, key)\n",
        "        if key > self.key:\n",
        "            return BSTNode.find(self.right, key)\n",
        "\n",
        "    # Update the tree\n",
        "    def update(self, key, value):\n",
        "        target = BSTNode.find(self, key)\n",
        "        if target is not None:\n",
        "            target.value = value\n",
        "\n",
        "    # List key value pairs\n",
        "    def list_all(self):\n",
        "        if self is None:\n",
        "            return []\n",
        "        return BSTNode.list_all(self.left) + [(self.key, self.value)] + BSTNode.list_all(self.right)\n",
        "\n",
        "    # Find if tree is balanced\n",
        "    def is_balanced(self):\n",
        "        if self is None:\n",
        "            return True, 0\n",
        "        balanced_l, height_l = BSTNode.is_balanced(self.left)\n",
        "        balanced_r, height_r = BSTNode.is_balanced(self.right)\n",
        "        balanced = balanced_l and balanced_r and abs(height_l - height_r) <= 1\n",
        "        height = 1 + max(height_l, height_r)\n",
        "        return balanced, height\n",
        "\n",
        "    @staticmethod\n",
        "    def make_balanced_bst(data, lo=0, hi=None, parent=None):\n",
        "        if hi is None:\n",
        "            hi = len(data) - 1\n",
        "        if lo > hi:\n",
        "            return None\n",
        "\n",
        "        mid = (lo + hi) // 2\n",
        "        key, value = data[mid]\n",
        "\n",
        "        root = BSTNode(key, value)\n",
        "        root.parent = parent\n",
        "        root.left = BSTNode.make_balanced_bst(data, lo, mid-1, root)\n",
        "        root.right = BSTNode.make_balanced_bst(data, mid+1, hi, root)\n",
        "\n",
        "        return root\n",
        "\n",
        "    def balance_bst(self):\n",
        "        '''\n",
        "        Sorts the tree and returns a sorted list --> list_all\n",
        "        makes a balanced BST from a sorted list ---> make_balances_bst\n",
        "        '''\n",
        "        return BSTNode.make_balanced_bst(BSTNode.list_all(self))\n",
        "    \n",
        "    def tree_size(self):\n",
        "        if self is None:\n",
        "            return 0\n",
        "        return 1 + BSTNode.tree_size(self.left) + BSTNode.tree_size(self.right)\n"
      ]
    },
    {
      "cell_type": "code",
      "execution_count": 17,
      "id": "4bae5d01",
      "metadata": {},
      "outputs": [],
      "source": [
        "class TreeMap():\n",
        "    def __init__(self):\n",
        "        self.root = None\n",
        "\n",
        "    def __setitem__(self, key, value):\n",
        "        node = BSTNode.find(self.root, key)\n",
        "        if not node:\n",
        "            self.root = BSTNode.insert(self.root, key, value)\n",
        "            self.root = BSTNode.balance_bst(self.root)\n",
        "        else:\n",
        "            BSTNode.update(self.root, key, value)\n",
        "\n",
        "\n",
        "    def __getitem__(self, key):\n",
        "        node = BSTNode.find(self.root, key)\n",
        "        return node.value if node else None\n",
        "\n",
        "    def __iter__(self):\n",
        "        return (x for x in BSTNode.list_all(self.root)) # this creates a generator\n",
        "\n",
        "    def __len__(self):\n",
        "        return BSTNode.tree_size(self.root)\n",
        "\n",
        "    def display(self):\n",
        "        return BSTNode.display_keys(self.root)"
      ]
    },
    {
      "cell_type": "markdown",
      "id": "d2e7089e",
      "metadata": {},
      "source": [
        "**Exercise**: What is the time complexity of `__len__`? Can you reduce it to **O(1)**. Hint: Modify the `BSTNode` class.\n",
        "\n",
        "Let's try using the `TreeMap` class below."
      ]
    },
    {
      "cell_type": "code",
      "execution_count": 18,
      "id": "0d2260f1",
      "metadata": {},
      "outputs": [
        {
          "data": {
            "text/plain": [
              "[User (username='peter', name='peter', email='peter@example.com'),\n",
              " User (username='joseph', name='joseph', email='joseph@example.com'),\n",
              " User (username='simon', name='peter', email='simon@example.com'),\n",
              " User (username='marion', name='william', email='marion@example.com'),\n",
              " User (username='joy', name='mj', email='mj@example.com'),\n",
              " User (username='samuel', name='sam', email='samuel@example.com'),\n",
              " User (username='stephen', name='s', email='stephen@example.com')]"
            ]
          },
          "execution_count": 18,
          "metadata": {},
          "output_type": "execute_result"
        }
      ],
      "source": [
        "users"
      ]
    },
    {
      "cell_type": "code",
      "execution_count": 19,
      "id": "b5562d56",
      "metadata": {},
      "outputs": [],
      "source": [
        "treemap = TreeMap()"
      ]
    },
    {
      "cell_type": "code",
      "execution_count": 20,
      "id": "71db6235",
      "metadata": {},
      "outputs": [
        {
          "name": "stdout",
          "output_type": "stream",
          "text": [
            "|\n"
          ]
        }
      ],
      "source": [
        "treemap.display()"
      ]
    },
    {
      "cell_type": "code",
      "execution_count": 21,
      "id": "d6f919ae",
      "metadata": {},
      "outputs": [],
      "source": [
        "aakash = User('aakash', 'Aakash Rai', 'aakash@example.com')\n",
        "biraj = User('biraj', 'Biraj Das', 'biraj@example.com')\n",
        "hemanth = User('hemanth', 'Hemanth Jain', 'hemanth@example.com')\n",
        "jadhesh = User('jadhesh', 'Jadhesh Verma', 'jadhesh@example.com')\n",
        "siddhant = User('siddhant', 'Siddhant Sinha', 'siddhant@example.com')\n",
        "sonaksh = User('sonaksh', 'Sonaksh Kumar', 'sonaksh@example.com')\n",
        "vishal = User('vishal', 'Vishal Goel', 'vishal@example.com')\n",
        "\n",
        "users = [aakash, biraj, hemanth, jadhesh, siddhant, sonaksh, vishal]"
      ]
    },
    {
      "cell_type": "code",
      "execution_count": 22,
      "id": "fbe4465e",
      "metadata": {},
      "outputs": [],
      "source": [
        "treemap['aakash'] = aakash\n",
        "treemap['jadhesh'] = jadhesh\n",
        "treemap['sonaksh'] = sonaksh"
      ]
    },
    {
      "cell_type": "code",
      "execution_count": 23,
      "id": "04a7521e",
      "metadata": {},
      "outputs": [
        {
          "name": "stdout",
          "output_type": "stream",
          "text": [
            "\tsonaksh\n",
            "jadhesh\n",
            "\taakash\n"
          ]
        }
      ],
      "source": [
        "treemap.display()"
      ]
    },
    {
      "cell_type": "code",
      "execution_count": 24,
      "id": "a1a5ce67",
      "metadata": {},
      "outputs": [
        {
          "data": {
            "text/plain": [
              "User (username='jadhesh', name='Jadhesh Verma', email='jadhesh@example.com')"
            ]
          },
          "execution_count": 24,
          "metadata": {},
          "output_type": "execute_result"
        }
      ],
      "source": [
        "treemap['jadhesh']"
      ]
    },
    {
      "cell_type": "code",
      "execution_count": 25,
      "id": "2ec941e9",
      "metadata": {},
      "outputs": [
        {
          "data": {
            "text/plain": [
              "3"
            ]
          },
          "execution_count": 25,
          "metadata": {},
          "output_type": "execute_result"
        }
      ],
      "source": [
        "len(treemap)"
      ]
    },
    {
      "cell_type": "code",
      "execution_count": 26,
      "id": "ea14ab59",
      "metadata": {},
      "outputs": [],
      "source": [
        "treemap['biraj'] = biraj\n",
        "treemap['hemanth'] = hemanth\n",
        "treemap['siddhant'] = siddhant\n",
        "treemap['vishal'] = vishal"
      ]
    },
    {
      "cell_type": "code",
      "execution_count": 27,
      "id": "8e513791",
      "metadata": {},
      "outputs": [
        {
          "name": "stdout",
          "output_type": "stream",
          "text": [
            "\t\tvishal\n",
            "\tsonaksh\n",
            "\t\tsiddhant\n",
            "jadhesh\n",
            "\t\themanth\n",
            "\tbiraj\n",
            "\t\taakash\n"
          ]
        }
      ],
      "source": [
        "treemap.display()"
      ]
    },
    {
      "cell_type": "code",
      "execution_count": 28,
      "id": "316cd62e",
      "metadata": {},
      "outputs": [
        {
          "name": "stdout",
          "output_type": "stream",
          "text": [
            "aakash User (username='aakash', name='Aakash Rai', email='aakash@example.com')\n",
            "biraj User (username='biraj', name='Biraj Das', email='biraj@example.com')\n",
            "hemanth User (username='hemanth', name='Hemanth Jain', email='hemanth@example.com')\n",
            "jadhesh User (username='jadhesh', name='Jadhesh Verma', email='jadhesh@example.com')\n",
            "siddhant User (username='siddhant', name='Siddhant Sinha', email='siddhant@example.com')\n",
            "sonaksh User (username='sonaksh', name='Sonaksh Kumar', email='sonaksh@example.com')\n",
            "vishal User (username='vishal', name='Vishal Goel', email='vishal@example.com')\n"
          ]
        }
      ],
      "source": [
        "for key, value in treemap:\n",
        "    print(key, value)"
      ]
    },
    {
      "cell_type": "code",
      "execution_count": 29,
      "id": "710e5825",
      "metadata": {},
      "outputs": [
        {
          "data": {
            "text/plain": [
              "[('aakash',\n",
              "  User (username='aakash', name='Aakash Rai', email='aakash@example.com')),\n",
              " ('biraj',\n",
              "  User (username='biraj', name='Biraj Das', email='biraj@example.com')),\n",
              " ('hemanth',\n",
              "  User (username='hemanth', name='Hemanth Jain', email='hemanth@example.com')),\n",
              " ('jadhesh',\n",
              "  User (username='jadhesh', name='Jadhesh Verma', email='jadhesh@example.com')),\n",
              " ('siddhant',\n",
              "  User (username='siddhant', name='Siddhant Sinha', email='siddhant@example.com')),\n",
              " ('sonaksh',\n",
              "  User (username='sonaksh', name='Sonaksh Kumar', email='sonaksh@example.com')),\n",
              " ('vishal',\n",
              "  User (username='vishal', name='Vishal Goel', email='vishal@example.com'))]"
            ]
          },
          "execution_count": 29,
          "metadata": {},
          "output_type": "execute_result"
        }
      ],
      "source": [
        "list(treemap)"
      ]
    },
    {
      "cell_type": "code",
      "execution_count": 30,
      "id": "f5fef0af",
      "metadata": {},
      "outputs": [],
      "source": [
        "# update\n",
        "treemap['aakash'] = User(username='aakash', name='Aakash N S', email='aakashns@example.com')"
      ]
    },
    {
      "cell_type": "code",
      "execution_count": 31,
      "id": "c61350ee",
      "metadata": {},
      "outputs": [
        {
          "data": {
            "text/plain": [
              "User (username='aakash', name='Aakash N S', email='aakashns@example.com')"
            ]
          },
          "execution_count": 31,
          "metadata": {},
          "output_type": "execute_result"
        }
      ],
      "source": [
        "treemap['aakash']"
      ]
    },
    {
      "cell_type": "markdown",
      "id": "5e15d1c7",
      "metadata": {},
      "source": []
    }
  ],
  "metadata": {
    "colab": {
      "provenance": []
    },
    "kernelspec": {
      "display_name": "allenv",
      "language": "python",
      "name": "python3"
    },
    "language_info": {
      "codemirror_mode": {
        "name": "ipython",
        "version": 3
      },
      "file_extension": ".py",
      "mimetype": "text/x-python",
      "name": "python",
      "nbconvert_exporter": "python",
      "pygments_lexer": "ipython3",
      "version": "3.12.3"
    }
  },
  "nbformat": 4,
  "nbformat_minor": 5
}
